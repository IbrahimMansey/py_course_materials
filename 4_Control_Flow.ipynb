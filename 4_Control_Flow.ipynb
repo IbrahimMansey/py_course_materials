{
 "cells": [
  {
   "cell_type": "markdown",
   "metadata": {},
   "source": [
    "# <center>Python Course</center>\n",
    "<img src=\"Python.svg.png\" style=\"width=200px;height:200px\"/>\n",
    "\n",
    "# Course content:\n",
    "> ### 1. Python Programming.\n",
    "> ### 2. Python for data analysis.\n",
    "> ### 3. Intro to ML/DL.\n",
    "> ### 4. Natural Language Understanding.\n",
    "> ### 5. Final project \"Sentiment Analysis\"."
   ]
  },
  {
   "cell_type": "markdown",
   "metadata": {},
   "source": [
    "**================================================================================**"
   ]
  },
  {
   "cell_type": "markdown",
   "metadata": {},
   "source": [
    "# Session 4\n",
    "\n",
    "## Table of Contents\n",
    "\n",
    "1. [Control Flow](#==>-Control-Flow)\n",
    "1. [Loops](#==>-Loops)\n",
    "1. [Function](#==>-Function)\n",
    "1. [Built In Functions](#==>-Built-In-Functions)"
   ]
  },
  {
   "cell_type": "markdown",
   "metadata": {},
   "source": [
    "Take a couple of quizez\n",
    "https://pynative.com/python/quizzes/"
   ]
  },
  {
   "cell_type": "markdown",
   "metadata": {},
   "source": [
    "## ==> Control Flow"
   ]
  },
  {
   "cell_type": "code",
   "execution_count": 155,
   "metadata": {},
   "outputs": [
    {
     "name": "stdout",
     "output_type": "stream",
     "text": [
      " 1 is equal to True\n"
     ]
    }
   ],
   "source": [
    "# if , elif, else  # Nested If\n",
    "if 1 == True:\n",
    "    print(' 1 is equal to True')"
   ]
  },
  {
   "cell_type": "code",
   "execution_count": 9,
   "metadata": {},
   "outputs": [
    {
     "name": "stdout",
     "output_type": "stream",
     "text": [
      "5\n"
     ]
    }
   ],
   "source": [
    "x = 5\n",
    "\n",
    "if x == 5:\n",
    "    print(x)"
   ]
  },
  {
   "cell_type": "code",
   "execution_count": 11,
   "metadata": {},
   "outputs": [
    {
     "name": "stdout",
     "output_type": "stream",
     "text": [
      "my name is ahmad\n"
     ]
    }
   ],
   "source": [
    "name = 'ahmad'\n",
    "age = 26\n",
    "food = 'shrimp'\n",
    "\n",
    "if name == 'ahmad':\n",
    "    print(f'my name is {name}')\n",
    "    \n",
    "elif age > 20:\n",
    "    print(f'my name is {name} and my age is {age}')\n",
    "    \n",
    "else:\n",
    "    print('hello world')"
   ]
  },
  {
   "cell_type": "code",
   "execution_count": 13,
   "metadata": {},
   "outputs": [
    {
     "name": "stdout",
     "output_type": "stream",
     "text": [
      "my name is ahmad and my age is 26\n"
     ]
    }
   ],
   "source": [
    "name = 'ahmad'\n",
    "age = 26\n",
    "food = 'shrimp'\n",
    "\n",
    "if name != 'ahmad':\n",
    "    print(f'my name is {name}')\n",
    "    \n",
    "elif age > 20:\n",
    "    print(f'my name is {name} and my age is {age}')\n",
    "    \n",
    "else:\n",
    "    print('hello world')"
   ]
  },
  {
   "cell_type": "code",
   "execution_count": 15,
   "metadata": {},
   "outputs": [
    {
     "name": "stdout",
     "output_type": "stream",
     "text": [
      "eshta\n"
     ]
    }
   ],
   "source": [
    "if name == 'ahmad' and age == 26 and food == 'shrimp':\n",
    "    print('eshta')"
   ]
  },
  {
   "cell_type": "markdown",
   "metadata": {},
   "source": [
    "## ==> Loops"
   ]
  },
  {
   "cell_type": "code",
   "execution_count": 16,
   "metadata": {},
   "outputs": [
    {
     "name": "stdout",
     "output_type": "stream",
     "text": [
      "1\n",
      "2\n",
      "3\n",
      "4\n",
      "5\n",
      "6\n",
      "your loop ends here\n"
     ]
    }
   ],
   "source": [
    "# while condition_is_true\n",
    "#   Code Will Run Until Condition Become False\n",
    "\n",
    "x = 0\n",
    "\n",
    "while x < 6:\n",
    "    x += 1\n",
    "    print(x)\n",
    "    \n",
    "print('your loop ends here')"
   ]
  },
  {
   "cell_type": "code",
   "execution_count": 18,
   "metadata": {},
   "outputs": [
    {
     "name": "stdout",
     "output_type": "stream",
     "text": [
      "1\n",
      "2\n",
      "3\n",
      "4\n",
      "5\n",
      "6\n",
      "7\n",
      "8\n"
     ]
    }
   ],
   "source": [
    "x = 0\n",
    "while True:\n",
    "    x += 1\n",
    "    print(x)\n",
    "    if x ==8:\n",
    "        break"
   ]
  },
  {
   "cell_type": "code",
   "execution_count": 3,
   "metadata": {},
   "outputs": [],
   "source": [
    "# for item in iterable_object :\n",
    "#   Do Something With Item\n",
    "\n",
    "\n",
    "# item Is A Vairable You Create and Call Whenever You Want\n",
    "# item refer to the current position and will run and visit all items to the end\n",
    "# iterable_object => Sequence [ list, tuples, set, dict, string of charcaters, Range, etc ... ]"
   ]
  },
  {
   "cell_type": "code",
   "execution_count": 19,
   "metadata": {},
   "outputs": [
    {
     "name": "stdout",
     "output_type": "stream",
     "text": [
      "1\n",
      "<class 'int'>\n",
      "2\n",
      "<class 'int'>\n",
      "3\n",
      "<class 'int'>\n",
      "ahmad\n",
      "<class 'str'>\n"
     ]
    }
   ],
   "source": [
    "my_list = [1,2,3,'ahmad']\n",
    "\n",
    "for btngan in my_list:\n",
    "    print(btngan)\n",
    "    print(type(btngan))"
   ]
  },
  {
   "cell_type": "code",
   "execution_count": 24,
   "metadata": {},
   "outputs": [
    {
     "name": "stdout",
     "output_type": "stream",
     "text": [
      "name ('ahmad', 'mohammad')\n",
      "age 25\n"
     ]
    }
   ],
   "source": [
    "my_dict = {'name':('ahmad', 'mohammad'), 'age':25}\n",
    "\n",
    "for key, value in my_dict.items():\n",
    "    print(str(key)+' '+str(value))"
   ]
  },
  {
   "cell_type": "code",
   "execution_count": 23,
   "metadata": {},
   "outputs": [
    {
     "data": {
      "text/plain": [
       "dict_items([('name', ('ahmad', 'mohammad')), ('age', 25)])"
      ]
     },
     "execution_count": 23,
     "metadata": {},
     "output_type": "execute_result"
    }
   ],
   "source": [
    "my_dict.items()"
   ]
  },
  {
   "cell_type": "code",
   "execution_count": 25,
   "metadata": {},
   "outputs": [
    {
     "name": "stdout",
     "output_type": "stream",
     "text": [
      "hello\n",
      "hello\n",
      "hello\n"
     ]
    }
   ],
   "source": [
    "for I in range(3):\n",
    "    print('hello')"
   ]
  },
  {
   "cell_type": "code",
   "execution_count": 174,
   "metadata": {},
   "outputs": [
    {
     "data": {
      "text/plain": [
       "range"
      ]
     },
     "execution_count": 174,
     "metadata": {},
     "output_type": "execute_result"
    }
   ],
   "source": [
    "type(range(5))"
   ]
  },
  {
   "cell_type": "code",
   "execution_count": 27,
   "metadata": {},
   "outputs": [
    {
     "data": {
      "text/plain": [
       "dict_items([('address', {'street': 5, 'building': 7}), ('name', {'firtsname': 'ahmad', 'secondname': 'omar'})])"
      ]
     },
     "execution_count": 27,
     "metadata": {},
     "output_type": "execute_result"
    }
   ],
   "source": [
    "# Advanced Dictionary Loop: dicts within dict\n",
    "\n",
    "myinfo = {'address':\n",
    "             {'street': 5, 'building': 7},\n",
    "         'name':\n",
    "              {'firtsname': 'ahmad', 'secondname': 'omar'}\n",
    "         }\n",
    "\n",
    "\n",
    "myinfo.items()"
   ]
  },
  {
   "cell_type": "code",
   "execution_count": 31,
   "metadata": {},
   "outputs": [
    {
     "data": {
      "text/plain": [
       "dict_items([('street', 5), ('building', 7)])"
      ]
     },
     "execution_count": 31,
     "metadata": {},
     "output_type": "execute_result"
    }
   ],
   "source": [
    "myinfo['address'].items()"
   ]
  },
  {
   "cell_type": "code",
   "execution_count": 35,
   "metadata": {},
   "outputs": [
    {
     "name": "stdout",
     "output_type": "stream",
     "text": [
      "within keyParent address the Child key street Value = 5\n",
      "within keyParent address the Child key building Value = 7\n",
      "within keyParent name the Child key firtsname Value = ahmad\n",
      "within keyParent name the Child key secondname Value = omar\n"
     ]
    }
   ],
   "source": [
    "for keyParent, valueParent in myinfo.items():\n",
    "    for keyChild, valueChild in valueParent.items():\n",
    "        print(f'within keyParent {keyParent} the Child key {keyChild} Value = {valueChild}')"
   ]
  },
  {
   "cell_type": "markdown",
   "metadata": {},
   "source": [
    "### Practice"
   ]
  },
  {
   "cell_type": "markdown",
   "metadata": {},
   "source": [
    "1. Use a _`for loop`_ to take a list and print each element of the list in a line."
   ]
  },
  {
   "cell_type": "code",
   "execution_count": 36,
   "metadata": {},
   "outputs": [],
   "source": [
    "sentence = [\"the\", \"quick\", \"red\", \"fox\", \"jumped\", \"over\", \"the\", \"lazy\", \"cheep\"]"
   ]
  },
  {
   "cell_type": "code",
   "execution_count": 41,
   "metadata": {},
   "outputs": [
    {
     "name": "stdout",
     "output_type": "stream",
     "text": [
      "item the\n",
      "item quick\n",
      "item red\n",
      "item fox\n",
      "item jumped\n",
      "item over\n",
      "item the\n",
      "item lazy\n",
      "item cheep\n"
     ]
    }
   ],
   "source": [
    "for item in sentence:\n",
    "    print(f\"item {item}\")"
   ]
  },
  {
   "cell_type": "markdown",
   "metadata": {},
   "source": [
    "2. Write a _`for loop`_  that will print out every whole number that is a multiple of 5 and less than or equal to 30."
   ]
  },
  {
   "cell_type": "code",
   "execution_count": 46,
   "metadata": {},
   "outputs": [
    {
     "name": "stdout",
     "output_type": "stream",
     "text": [
      "5\n",
      "10\n",
      "15\n",
      "20\n",
      "25\n",
      "30\n"
     ]
    }
   ],
   "source": [
    "for i in range(1,31):\n",
    "    if i % 5==0:\n",
    "        print(i)"
   ]
  },
  {
   "cell_type": "markdown",
   "metadata": {},
   "source": [
    "3. Find the factorial of a number using a while loop.\n",
    "\n",
    ">A factorial of a whole number is that number multiplied by every whole number between itself and 1. For example, 6 factorial (written \"6!\") equals 6 x 5 x 4 x 3 x 2 x 1 = 720. So 6! = 720."
   ]
  },
  {
   "cell_type": "code",
   "execution_count": 49,
   "metadata": {},
   "outputs": [
    {
     "name": "stdout",
     "output_type": "stream",
     "text": [
      "step1 = 1\n",
      "step2 = 2\n",
      "step3 = 6\n",
      "step4 = 24\n",
      "step5 = 120\n",
      "step6 = 720\n",
      "720\n"
     ]
    }
   ],
   "source": [
    "product =1\n",
    "for i in range(1,7):\n",
    "    product *= i\n",
    "    print(f'step{i} = {product}')\n",
    "print(product)    "
   ]
  },
  {
   "cell_type": "code",
   "execution_count": 50,
   "metadata": {},
   "outputs": [
    {
     "name": "stdout",
     "output_type": "stream",
     "text": [
      "720\n"
     ]
    }
   ],
   "source": [
    "product2 = 1\n",
    "x=1\n",
    "while x<=6:\n",
    "    product2 *= x\n",
    "    x +=1\n",
    "print(product2)    "
   ]
  },
  {
   "cell_type": "markdown",
   "metadata": {},
   "source": [
    "### Break, Continue,  and Pass"
   ]
  },
  {
   "cell_type": "code",
   "execution_count": 52,
   "metadata": {},
   "outputs": [
    {
     "name": "stdout",
     "output_type": "stream",
     "text": [
      "0\n",
      "1\n",
      "2\n",
      "3\n",
      "4\n"
     ]
    }
   ],
   "source": [
    "# Break\n",
    "\n",
    "for i in range(7):\n",
    "    print(i)\n",
    "    if i == 4:\n",
    "        break\n"
   ]
  },
  {
   "cell_type": "code",
   "execution_count": 53,
   "metadata": {},
   "outputs": [
    {
     "name": "stdout",
     "output_type": "stream",
     "text": [
      "1\n",
      "3\n",
      "5\n",
      "7\n",
      "9\n"
     ]
    }
   ],
   "source": [
    "# Continue\n",
    "\n",
    "for i in range(11):\n",
    "    if i % 2 == 0:\n",
    "        continue\n",
    "    print(i)\n"
   ]
  },
  {
   "cell_type": "code",
   "execution_count": 55,
   "metadata": {},
   "outputs": [
    {
     "name": "stdout",
     "output_type": "stream",
     "text": [
      "0\n",
      "1\n",
      "2\n",
      "3\n",
      "4\n"
     ]
    }
   ],
   "source": [
    "# Pass does nothing can be user with elif\n",
    "\n",
    "for i in range(5):\n",
    "    if i % 2 == 0:\n",
    "        pass\n",
    "    print(i)\n"
   ]
  },
  {
   "cell_type": "code",
   "execution_count": 58,
   "metadata": {},
   "outputs": [
    {
     "name": "stdout",
     "output_type": "stream",
     "text": [
      "3\n",
      "9\n"
     ]
    }
   ],
   "source": [
    "for i in range(10):\n",
    "    if i%2 == 0:\n",
    "        pass\n",
    "    elif i%3 == 0:\n",
    "        print(i)\n",
    "\n",
    "# did not print 6 because 6 can be devided by 2 and 3"
   ]
  },
  {
   "cell_type": "markdown",
   "metadata": {},
   "source": [
    "### List Comprehension"
   ]
  },
  {
   "cell_type": "code",
   "execution_count": 64,
   "metadata": {},
   "outputs": [
    {
     "name": "stdout",
     "output_type": "stream",
     "text": [
      "[0, 2, 4, 6, 8, 10]\n"
     ]
    }
   ],
   "source": [
    "# normal for loop to create a list from another list by condition\n",
    "\n",
    "listaya = list(range(11))\n",
    "mylist = [] # or list()\n",
    "\n",
    "for i in listaya:\n",
    "    if i%2 ==0:\n",
    "        mylist.append(i)\n",
    "print(mylist)        "
   ]
  },
  {
   "cell_type": "code",
   "execution_count": 65,
   "metadata": {},
   "outputs": [
    {
     "name": "stdout",
     "output_type": "stream",
     "text": [
      "[0, 2, 4, 6, 8, 10]\n"
     ]
    }
   ],
   "source": [
    "# List Comprehension with if true condition only\n",
    "mylist2 = [i for i in listaya if i%2 ==0]\n",
    "print(mylist2)"
   ]
  },
  {
   "cell_type": "code",
   "execution_count": 69,
   "metadata": {},
   "outputs": [
    {
     "data": {
      "text/plain": [
       "[0, 0, 0, 0, 0]"
      ]
     },
     "execution_count": 69,
     "metadata": {},
     "output_type": "execute_result"
    }
   ],
   "source": [
    "mylist3 = [0 for i in range(10) if i%2 == 0]\n",
    "mylist3"
   ]
  },
  {
   "cell_type": "code",
   "execution_count": 71,
   "metadata": {},
   "outputs": [
    {
     "data": {
      "text/plain": [
       "[0, 1, 0, 1, 0, 1, 0, 1, 0, 1]"
      ]
     },
     "execution_count": 71,
     "metadata": {},
     "output_type": "execute_result"
    }
   ],
   "source": [
    "# List Comprehension With True and False conditions\n",
    "mylist3 = [0 if i%2 == 0 else 1 for i in range(10)]\n",
    "mylist3"
   ]
  },
  {
   "cell_type": "markdown",
   "metadata": {},
   "source": [
    "#### Practice\n",
    "- Use a list comprehension to create a new list _`first_names`_ containing just the first names from list names in lowercase."
   ]
  },
  {
   "cell_type": "code",
   "execution_count": 73,
   "metadata": {},
   "outputs": [],
   "source": [
    "names = ['Ibrahim Mansey', 'Ahmad Adawy', 'Samira Saeed']"
   ]
  },
  {
   "cell_type": "code",
   "execution_count": 84,
   "metadata": {},
   "outputs": [
    {
     "data": {
      "text/plain": [
       "['ibrahim', 'ahmad', 'samira']"
      ]
     },
     "execution_count": 84,
     "metadata": {},
     "output_type": "execute_result"
    }
   ],
   "source": [
    "first_names = list()\n",
    "for n in names:\n",
    "    first = n.lower().split()[0]\n",
    "    first_names.append(first)\n",
    "first_names"
   ]
  },
  {
   "cell_type": "code",
   "execution_count": 88,
   "metadata": {},
   "outputs": [],
   "source": [
    "first_names = list()"
   ]
  },
  {
   "cell_type": "code",
   "execution_count": 89,
   "metadata": {},
   "outputs": [
    {
     "data": {
      "text/plain": [
       "['ibrahim', 'ahmad', 'samira']"
      ]
     },
     "execution_count": 89,
     "metadata": {},
     "output_type": "execute_result"
    }
   ],
   "source": [
    "first_names = [n.lower().split()[0] for n in names ]\n",
    "first_names"
   ]
  },
  {
   "cell_type": "markdown",
   "metadata": {},
   "source": [
    "- Use a list comprehension to create a list of names _`passed`_ that only include those that scored at least 60."
   ]
  },
  {
   "cell_type": "code",
   "execution_count": 91,
   "metadata": {},
   "outputs": [],
   "source": [
    "scores = {\n",
    "             \"Ibrahim Mansey\": 70,\n",
    "             \"Abbas Ibn Fernas\": 35,\n",
    "             \"Ibn Al-Haitham\": 82,\n",
    "             \"Samira Saeed\": 23,\n",
    "             \"Ahmad Adawy\": 98\n",
    "          }"
   ]
  },
  {
   "cell_type": "code",
   "execution_count": 92,
   "metadata": {},
   "outputs": [],
   "source": [
    "passed = [key for key, value in scores.items() if value >=60]"
   ]
  },
  {
   "cell_type": "code",
   "execution_count": 93,
   "metadata": {},
   "outputs": [
    {
     "data": {
      "text/plain": [
       "['Ibrahim Mansey', 'Ibn Al-Haitham', 'Ahmad Adawy']"
      ]
     },
     "execution_count": 93,
     "metadata": {},
     "output_type": "execute_result"
    }
   ],
   "source": [
    "passed"
   ]
  },
  {
   "cell_type": "markdown",
   "metadata": {},
   "source": [
    "## ==> Function"
   ]
  },
  {
   "cell_type": "markdown",
   "metadata": {},
   "source": [
    "- A Function is A Reusable Block Of Code That Does A Task\n",
    "- A Function Run When You Call It\n",
    "- A Function Accepts Elements To Deal With are Called [Parameters]\n",
    "- A Function Can Do The Task Without Returning Data\n",
    "- A Function Can Return Data After Job is Finished\n",
    "- A Function Create To Prevent DRY ( Don't Repeat Yourself )\n",
    "- A Function Accepts Elements When You Call It are Called [Arguments]\n",
    "- There are Built-In Functions and User Defined Functions"
   ]
  },
  {
   "cell_type": "code",
   "execution_count": 94,
   "metadata": {},
   "outputs": [],
   "source": [
    "# Define A function that prints a string\n",
    "\n",
    "def print_hello():\n",
    "    print('hello')"
   ]
  },
  {
   "cell_type": "code",
   "execution_count": 95,
   "metadata": {
    "scrolled": true
   },
   "outputs": [
    {
     "name": "stdout",
     "output_type": "stream",
     "text": [
      "hello\n"
     ]
    }
   ],
   "source": [
    "print_hello()"
   ]
  },
  {
   "cell_type": "code",
   "execution_count": 98,
   "metadata": {},
   "outputs": [],
   "source": [
    "def printmystring(n):\n",
    "    \n",
    "    print(n+\" omarrr\")"
   ]
  },
  {
   "cell_type": "code",
   "execution_count": 99,
   "metadata": {},
   "outputs": [
    {
     "name": "stdout",
     "output_type": "stream",
     "text": [
      "h omarrr\n"
     ]
    }
   ],
   "source": [
    "printmystring(\"h\")"
   ]
  },
  {
   "cell_type": "code",
   "execution_count": 100,
   "metadata": {},
   "outputs": [],
   "source": [
    "# Define A Function with parameters: Define addition , Full name\n",
    "\n",
    "def addition(x, n):\n",
    "    print(x + n)"
   ]
  },
  {
   "cell_type": "code",
   "execution_count": 101,
   "metadata": {},
   "outputs": [
    {
     "name": "stdout",
     "output_type": "stream",
     "text": [
      "7\n"
     ]
    }
   ],
   "source": [
    "addition(3, 4)"
   ]
  },
  {
   "cell_type": "code",
   "execution_count": 103,
   "metadata": {},
   "outputs": [
    {
     "name": "stdout",
     "output_type": "stream",
     "text": [
      "Nancy Agram\n"
     ]
    }
   ],
   "source": [
    "def fullName(fst_name, snd_name):\n",
    "    print(fst_name + ' ' + snd_name)\n",
    "\n",
    "fullName('Nancy', 'Agram')"
   ]
  },
  {
   "cell_type": "code",
   "execution_count": 105,
   "metadata": {},
   "outputs": [],
   "source": [
    "# Function Default Parameters\n",
    "def fullName2(fst_name= 'Ibrahim', snd_name= 'Mansey'):\n",
    "    print(fst_name + ' ' + snd_name)"
   ]
  },
  {
   "cell_type": "code",
   "execution_count": 107,
   "metadata": {},
   "outputs": [
    {
     "name": "stdout",
     "output_type": "stream",
     "text": [
      "Ibrahim Mansey\n",
      "Nancy Agram\n"
     ]
    }
   ],
   "source": [
    "fullName2()\n",
    "fullName2('Nancy', 'Agram')"
   ]
  },
  {
   "cell_type": "code",
   "execution_count": 110,
   "metadata": {},
   "outputs": [
    {
     "name": "stdout",
     "output_type": "stream",
     "text": [
      "2\n",
      "12\n"
     ]
    }
   ],
   "source": [
    "# Practice: Define a function that calculates a rectangle area\n",
    "def area(l = 1, r =2):\n",
    "    print(l * r)\n",
    "area()\n",
    "area(3, 4)"
   ]
  }
 ],
 "metadata": {
  "kernelspec": {
   "display_name": "Python 3",
   "language": "python",
   "name": "python3"
  },
  "language_info": {
   "codemirror_mode": {
    "name": "ipython",
    "version": 3
   },
   "file_extension": ".py",
   "mimetype": "text/x-python",
   "name": "python",
   "nbconvert_exporter": "python",
   "pygments_lexer": "ipython3",
   "version": "3.8.5"
  }
 },
 "nbformat": 4,
 "nbformat_minor": 4
}
